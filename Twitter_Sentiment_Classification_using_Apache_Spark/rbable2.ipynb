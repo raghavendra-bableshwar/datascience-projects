{
 "cells": [
  {
   "cell_type": "code",
   "execution_count": 4,
   "metadata": {
    "collapsed": false
   },
   "outputs": [],
   "source": [
    "import csv\n",
    "import re\n",
    "import string\n",
    "from pyspark.mllib.classification import LogisticRegressionWithLBFGS, LogisticRegressionModel, LogisticRegressionWithSGD\n",
    "from pyspark.mllib.classification import NaiveBayes, NaiveBayesModel\n",
    "from pyspark.mllib.regression import LabeledPoint\n",
    "from pyspark.mllib.feature import HashingTF\n",
    "import shutil\n",
    "from operator import add\n",
    "from __future__ import print_function\n",
    "from nltk.stem.porter import PorterStemmer\n",
    "\n",
    "#Dict To store words with hashed numbers\n",
    "hashedStrings = {}\n",
    "\n",
    "listOfAllTrainingTweets = []\n",
    "\n",
    "#Taken from assignment3\n",
    "stopWords = ['i','me','my','myself','we','our','ours','ourselves','you','your','yours',\n",
    "               'yourself','yourselves','he','him','his','himself','she','her','hers','herself','it','its','itself',\n",
    "               'they','them','their','theirs','themselves','what','which','who','whom','this','that','these','those',\n",
    "               'am','is','are','was','were','be','been','being','have','has','had','having','do','does','did','doing',\n",
    "               'a','an','the','and','but','if','or','because','as','until','while','of','at','by','for','with','about',\n",
    "               'against','between','into','through','during','before','after','above','below','to','from','up','down','in',\n",
    "               'out','on','off','over','under','again','further','then','once','here','there','when','where','why','how','all',\n",
    "               'any','both','each','few','more','most','other','some','such','no','nor','not','only','own','same','so','than',\n",
    "               'too','very','s','t','can','will','just','don','should','now']\n"
   ]
  },
  {
   "cell_type": "code",
   "execution_count": 5,
   "metadata": {
    "collapsed": true
   },
   "outputs": [],
   "source": [
    "def cleanTweets(tweetText):\n",
    "    cleanedTokens = []\n",
    "    listOfAllTrainingTweets.append(tweetText)\n",
    "    tweetText = tweetText.strip('\\n ')\n",
    "    tweetText = tweetText.lower().replace('\\n',' ')\n",
    "    tweetText = re.sub(r'https?:\\/\\/.[^\\s]+', 'URL', tweetText)\n",
    "    tweetText = re.sub(r'www\\.[^\\s]+', 'URL', tweetText)\n",
    "    tweetText = re.sub(r'@[^\\s]+', 'AT_USER', tweetText)\n",
    "    tweetText = re.sub(r'^[^A-Za-z][^\\s]+', '', tweetText)\n",
    "    regex = re.compile('[%s]' % re.escape(string.punctuation))\n",
    "    tweetText = regex.sub('', tweetText)\n",
    "    tweetText = re.sub(r'(.)\\1{2,}', r'\\1\\1', tweetText)\n",
    "    tokens = tweetText.split()\n",
    "    for token in tokens:\n",
    "        token = token.strip('\"')\n",
    "        cleanedTokens.append(PorterStemmer().stem(token))\n",
    "    cleanedTokens = list(set(tweetText.split()))\n",
    "    for stopWord in stopWords:\n",
    "        if stopWord in cleanedTokens:\n",
    "            cleanedTokens.remove(stopWord)\n",
    "    return cleanedTokens"
   ]
  },
  {
   "cell_type": "code",
   "execution_count": 76,
   "metadata": {
    "collapsed": true
   },
   "outputs": [],
   "source": [
    "def processCSVFile(csv_file):\n",
    "    cleanedTokens = []\n",
    "    with open(csv_file,newline='',encoding='ISO-8859-1') as csvFile:\n",
    "        tweets = csv.reader(csvFile, delimiter=',',dialect='excel')\n",
    "        for tweet in tweets:\n",
    "            cleanedTokens.extend(cleanTweets(tweet[5]))\n",
    "    cleanedTokens = list(set(cleanedTokens))\n",
    "    for stopWord in stopWords:\n",
    "        if stopWord in cleanedTokens:\n",
    "            cleanedTokens.remove(stopWord)\n",
    "    htf = HashingTF(50000)\n",
    "    for cleanedToken in cleanedTokens:\n",
    "        if htf.indexOf(cleanedToken) in hashedStrings:\n",
    "            hashedStrings[htf.indexOf(cleanedToken)].append(cleanedToken)\n",
    "        else:\n",
    "            cleanedTokenList = []\n",
    "            cleanedTokenList.append(cleanedToken)\n",
    "            hashedStrings[htf.indexOf(cleanedToken)] = cleanedTokenList\n",
    "    #print(cleanedTokens)\n",
    "    return\n",
    "\n",
    "processCSVFile(\"./data/train.csv\")\n",
    "#print (hashedStrings)"
   ]
  },
  {
   "cell_type": "code",
   "execution_count": 6,
   "metadata": {
    "collapsed": false
   },
   "outputs": [],
   "source": [
    "def cleanTweets1(line):\n",
    "    #gobal hashedStrings\n",
    "    parts = line.split('\\\",')\n",
    "    label = parts[0].strip('\"')\n",
    "    features = cleanTweets(parts[5])\n",
    "    #f.append(features)\n",
    "    # Hashing term frequency vectorizer with 50k features\n",
    "    htf = HashingTF(50000)\n",
    "    #a = createHashList(features)\n",
    "    #print(htf.indexOf(feature))\n",
    "    #print(hashedStrings)\n",
    "    return LabeledPoint(label, htf.transform(features))"
   ]
  },
  {
   "cell_type": "code",
   "execution_count": 7,
   "metadata": {
    "collapsed": false,
    "scrolled": true
   },
   "outputs": [
    {
     "data": {
      "text/plain": [
       "PythonRDD[5] at RDD at PythonRDD.scala:43"
      ]
     },
     "execution_count": 7,
     "metadata": {},
     "output_type": "execute_result"
    }
   ],
   "source": [
    "train_hashed = sc.textFile('./data/train.csv').map(cleanTweets1)\n",
    "train_hashed.persist()\n",
    "test_hashed = sc.textFile('./data/test.csv').map(cleanTweets1)\n",
    "test_hashed.persist()\n",
    "\n",
    "#Testing portion\n",
    "#test_hashed.collect()\n",
    "#for x in test_hashed.collect():\n",
    "    #print(x)\n",
    "#print(f)"
   ]
  },
  {
   "cell_type": "code",
   "execution_count": 8,
   "metadata": {
    "collapsed": false
   },
   "outputs": [
    {
     "name": "stdout",
     "output_type": "stream",
     "text": [
      "Logistic classifier: trained accuracy 88.61250000000001\n",
      "Logistic classifier: test accracy 79.10863509749304\n"
     ]
    }
   ],
   "source": [
    "logistic_model = LogisticRegressionWithLBFGS.train(train_hashed)\n",
    "\n",
    "\n",
    "prediction_and_labels_logistic = test_hashed.map(lambda point: (float(logistic_model.predict(point.features)), (float(point.label))))\n",
    "prediction_and_labels_logistic.persist()\n",
    "\n",
    "\n",
    "prediction_and_labels_logistic_trained_accracy = train_hashed.map(lambda point: (float(logistic_model.predict(point.features)), (float(point.label))))\n",
    "prediction_and_labels_logistic_trained_accracy.persist()\n",
    "\n",
    "# Filter to only correct predictions\n",
    "correct = prediction_and_labels_logistic.filter(lambda predicted: predicted[0] == predicted[1])\n",
    "\n",
    "# Filter to only correct predictions\n",
    "correct_trained = prediction_and_labels_logistic_trained_accracy.filter(lambda predicted: predicted[0] == predicted[1])\n",
    "\n",
    "# Calculate and print accuracy rate\n",
    "accuracy = correct.count() / float(test_hashed.count())\n",
    "accuracy_trained = correct_trained.count() / float(train_hashed.count())\n",
    "\n",
    "print (\"Logistic classifier: trained accuracy \" + str(accuracy_trained * 100))\n",
    "print (\"Logistic classifier: test accracy \" + str(accuracy * 100))\n",
    "\n",
    "#logistic_model.save(sc, \"/home/raghavendra/HW4/HW4/rbable2_logistic_regression_model\")"
   ]
  },
  {
   "cell_type": "code",
   "execution_count": 80,
   "metadata": {
    "collapsed": false
   },
   "outputs": [
    {
     "name": "stdout",
     "output_type": "stream",
     "text": [
      "Some 10 tweets:\n",
      "@stellargirl I loooooooovvvvvveee my Kindle2. Not that the DX is cool, but the 2 is fantastic in its own right.:0.9995510862601485\n",
      "Reading my kindle2...  Love it... Lee childs is good read.:0.991630424494291\n",
      "Ok, first assesment of the #kindle2 ...it fucking rocks!!!:0.9344337297593742\n",
      "@kenburbary You'll love your Kindle2. I've had mine for a few months and never looked back. The new big one is huge! No need for remorse! :):0.18241573192730676\n",
      "@mikefish  Fair enough. But i have the Kindle2 and I think it's perfect  :):0.9320584461901142\n",
      "@richardebaker no. it is too big. I'm quite happy with the Kindle2.:0.989370741194447\n",
      "Fuck this economy. I hate aig and their non loan given asses.:0.002113920308281398\n",
      "Jquery is my new best friend.:0.7639525250508161\n",
      "Loves twitter:0.6196703572519399\n",
      "how can you not love Obama? he makes jokes about himself.:0.7506058579653773\n",
      "Top 5 correctly classified tweets:\n",
      "Watchin Espn..Jus seen this new Nike Commerical with a Puppet Lebron..sh*t was hilarious...LMAO!!!:0.9998340746655764\n",
      "I'm really loving the new search site Wolfram/Alpha. Makes Google seem so ... quaint. http://www72.wolframalpha.com/:0.9998033300245249\n",
      "@sklososky Thanks so much!!! ...from one of your *very* happy Kindle2 winners ; ) I was so surprised, fabulous. Thank you! Best, Kathleen:0.9997435858199087\n",
      "@cwong08 I have a Kindle2 (&amp; Sony PRS-500). Like it! Physical device feels good. Font is nice. Pg turns are snappy enuf. UI a little klunky.:0.9997041435661862\n",
      "lebron and zydrunas are such an awesome duo:0.9995874509718201\n",
      "Top 5 incorrectly classified tweets:\n",
      "saw night at the museum out of sheer desperation. who is funding these movies?:0.9999982744391218\n",
      "Having the old Coca-Cola guy on the GM board is stupid has heck! #tcot #ala:0.9965871615761929\n",
      "I just created my first LaTeX file from scratch. That didn't work out very well. (See @amandabittner , it's a great time waster):0.9963323152897341\n",
      "GM files Bankruptcy, not a good sign...:0.9888309928798108\n",
      "It's unfortunate that after the Stimulus plan was put in place twice to help GM on the back of the American people has led to the inevitable:0.988798058927356\n"
     ]
    }
   ],
   "source": [
    "def readAllTweets(line):\n",
    "    parts = line.split('\\\",')\n",
    "    #label = parts[0].strip('\"')\n",
    "    #features = cleanTweets(parts[5])\n",
    "    return parts[5].strip('\"')\n",
    "\n",
    "def findPredictionProbabilites():\n",
    "    logistic_model.clearThreshold()\n",
    "    prediction_and_labels_logistic_pp = test_hashed.map(lambda point: (float(logistic_model.predict(point.features)), (float(point.label))))\n",
    "    tweetRdd = sc.textFile('./data/test.csv').map(readAllTweets)\n",
    "    #for x in tweetRdd.collect():\n",
    "        #print(x)\n",
    "    #print (listOfAllTrainingTweets)\n",
    "    pred_and_tweets = prediction_and_labels_logistic_pp.zip(tweetRdd)\n",
    "    #for x in pred_and_tweets.collect():\n",
    "        #print(x[1])\n",
    "    someTenTweets = pred_and_tweets.take(10)\n",
    "    print(\"Some 10 tweets:\")\n",
    "    for x in someTenTweets:\n",
    "        print(str(x[1])+\":\"+str(x[0][0]))\n",
    "    top5correctlyidentify = pred_and_tweets.filter(lambda x: (x[0][0]>=0.5 and x[0][1]==1) or (x[0][0]<=0.5 and x[0][1]==0)).takeOrdered(5,key=lambda X:-X[0][0])\n",
    "    print(\"Top 5 correctly classified tweets:\")\n",
    "    for x in top5correctlyidentify:\n",
    "        print(str(x[1])+\":\"+str(x[0][0]))     \n",
    "    top5incorrectlyidentify = pred_and_tweets.filter(lambda x: (x[0][0]>=0.5 and x[0][1]==0) or (x[0][0]<=0.5 and x[0][1]==1)).takeOrdered(5,key=lambda X:-X[0][0])\n",
    "    print(\"Top 5 incorrectly classified tweets:\")\n",
    "    for x in top5incorrectlyidentify:\n",
    "        print(str(x[1])+\":\"+str(x[0][0]))\n",
    "    return \n",
    "\n",
    "findPredictionProbabilites()"
   ]
  },
  {
   "cell_type": "code",
   "execution_count": 81,
   "metadata": {
    "collapsed": false
   },
   "outputs": [
    {
     "name": "stdout",
     "output_type": "stream",
     "text": [
      "Naive Baysian classifier: trained accuracy 81.43249999999999\n",
      "Naive Baysian classifier: test accuracy80.22284122562674\n"
     ]
    }
   ],
   "source": [
    "naive_baysian_model = NaiveBayes.train(train_hashed)\n",
    "\n",
    "#test_hashed.map(testModule)\n",
    "# Compare predicted labels to actual labels\n",
    "prediction_and_labels_naive_baysian = test_hashed.map(lambda point: (float(naive_baysian_model.predict(point.features)), (float(point.label))))\n",
    "prediction_and_labels_naive_baysian.persist()\n",
    "\n",
    "prediction_and_labels_naive_baysian_train_accracy = train_hashed.map(lambda point: (naive_baysian_model.predict(point.features), (float(point.label))))\n",
    "prediction_and_labels_naive_baysian_train_accracy.persist()\n",
    "\n",
    "correct = prediction_and_labels_naive_baysian.filter(lambda predicted: predicted[0] == predicted[1])\n",
    "correct_trained = prediction_and_labels_naive_baysian_train_accracy.filter(lambda predicted: predicted[0] == predicted[1])\n",
    "\n",
    "\n",
    "accuracy_nb = correct.count() / float(test_hashed.count())\n",
    "accuracy_trained_nb = correct_trained.count() / float(train_hashed.count())\n",
    "\n",
    "print (\"Naive Baysian classifier: trained accuracy \" + str(accuracy_trained_nb * 100))\n",
    "print (\"Naive Baysian classifier: test accuracy\" + str(accuracy_nb * 100))\n",
    "\n",
    "#naive_baysian_model.save(sc, \"/home/raghavendra/HW4/HW4/rbable2_naive_baysian_model\")"
   ]
  },
  {
   "cell_type": "code",
   "execution_count": 82,
   "metadata": {
    "collapsed": false
   },
   "outputs": [
    {
     "name": "stdout",
     "output_type": "stream",
     "text": [
      "['URL', 'roe']\n",
      "['thoughsupposed', 'pierogies', 'thatmakes', 'warner']\n",
      "['time', 'flurt']\n",
      "['geass', 'good', 'symbol']\n",
      "['love', 'caley']\n",
      "['ATUSER', 'htey', 'agreeable', 'twibe']\n",
      "['new']\n",
      "['opposites', 'night']\n",
      "['6apr2010', 'im']\n",
      "['great', 'advance']\n",
      "['cim', 'got', 'prince2']\n",
      "['hate']\n",
      "['go', 'tlkd']\n",
      "['nike', 'quotient']\n",
      "['tooyou', 'museum']\n",
      "['lebron']\n",
      "['gm']\n",
      "['kindle2', 'amazingi']\n",
      "['quotamaquot', 'amp']\n",
      "['flannel', 'â´', 'like']\n"
     ]
    }
   ],
   "source": [
    "def findMostInformativeNB():\n",
    "    i=0\n",
    "    hashesAndCount = {}\n",
    "    test_hashed_Indexed = test_hashed.zipWithIndex().collect()\n",
    "    #print(test_hashed_Indexed[0][1])\n",
    "    #for idx in test_hashed_Indexed[0][0].features.indices:\n",
    "        #print(idx)\n",
    "    #print (test_hashed_Indexed[0])\n",
    "    for x in prediction_and_labels_naive_baysian.collect():\n",
    "        if x[0]==x[1]:\n",
    "            hashList = test_hashed_Indexed[i][0].features.indices\n",
    "            for eachHash in hashList:\n",
    "                if eachHash in hashesAndCount:\n",
    "                    hashesAndCount[eachHash] = hashesAndCount[eachHash] + 1\n",
    "                else:\n",
    "                    hashesAndCount[eachHash] = 1\n",
    "        i = i+1\n",
    "    hashesAndCount = sorted(hashesAndCount.items(), key=lambda x:x[1], reverse=True)\n",
    "    for j in range(0,20):\n",
    "        if hashesAndCount[j][0] in hashedStrings:\n",
    "            print(hashedStrings[hashesAndCount[j][0]])\n",
    "    return\n",
    "#test_hashed.randomSplit([1])\n",
    "findMostInformativeNB()\n"
   ]
  },
  {
   "cell_type": "code",
   "execution_count": 84,
   "metadata": {
    "collapsed": false
   },
   "outputs": [
    {
     "name": "stdout",
     "output_type": "stream",
     "text": [
      "['URL', 'roe']\n",
      "['geass', 'good', 'symbol']\n",
      "['new']\n",
      "['opposites', 'night']\n",
      "['love', 'caley']\n",
      "['time', 'flurt']\n",
      "['thoughsupposed', 'pierogies', 'thatmakes', 'warner']\n",
      "['ATUSER', 'htey', 'agreeable', 'twibe']\n",
      "['cim', 'got', 'prince2']\n",
      "['go', 'tlkd']\n",
      "['tooyou', 'museum']\n",
      "['lebron']\n",
      "['nike', 'quotient']\n",
      "['6apr2010', 'im']\n",
      "['google']\n",
      "['ññ\\x82ð¾ð»ñ\\x8cðºð¾', 'today', 'spackle', 'spectacles']\n",
      "['really']\n",
      "['kindle2', 'amazingi']\n",
      "['awesome']\n",
      "['hate']\n"
     ]
    }
   ],
   "source": [
    "def findMostInformativeLR():\n",
    "    i=0\n",
    "    hashesAndCount = {}\n",
    "    test_hashed_Indexed = test_hashed.zipWithIndex().collect()\n",
    "    for x in prediction_and_labels_logistic.collect():\n",
    "        if x[0]==x[1]:\n",
    "            hashList = test_hashed_Indexed[i][0].features.indices\n",
    "            for eachHash in hashList:\n",
    "                if eachHash in hashesAndCount:\n",
    "                    hashesAndCount[eachHash] = hashesAndCount[eachHash] + 1\n",
    "                else:\n",
    "                    hashesAndCount[eachHash] = 1\n",
    "            i = i+1\n",
    "    hashesAndCount = sorted(hashesAndCount.items(), key=lambda x:x[1], reverse=True)\n",
    "    for j in range(0,20):\n",
    "        if hashesAndCount[j][0] in hashedStrings:\n",
    "            print(hashedStrings[hashesAndCount[j][0]])\n",
    "    return\n",
    "#test_hashed.randomSplit([1])\n",
    "findMostInformativeLR()"
   ]
  },
  {
   "cell_type": "code",
   "execution_count": 10,
   "metadata": {
    "collapsed": false
   },
   "outputs": [],
   "source": [
    "def findFalsePositives(prediction):\n",
    "    if prediction[0] == 0 and prediction[1] == 1:\n",
    "        return prediction\n",
    "    \n",
    "def findFalseNegatives(prediction):\n",
    "    if prediction[0] == 1 and prediction[1] == 0:\n",
    "        return prediction\n",
    "    \n",
    "def findTruePositives(prediction):\n",
    "    if prediction[0] == 1 and prediction[1] == 1:\n",
    "        return prediction\n",
    "    \n",
    "def findTrueNegatives(prediction):\n",
    "    if prediction[0] == 0 and prediction[1] == 0:\n",
    "        return prediction"
   ]
  },
  {
   "cell_type": "code",
   "execution_count": 86,
   "metadata": {
    "collapsed": false
   },
   "outputs": [
    {
     "name": "stdout",
     "output_type": "stream",
     "text": [
      "True positive count:150\n",
      "False positive count:32\n",
      "False negative count:43\n",
      "True negative count:134\n",
      "precision:0.8241758241758241\n",
      "recall:0.7772020725388601\n",
      "fmeasure:0.8\n",
      "Area under ROC:0.7906189855342398\n"
     ]
    }
   ],
   "source": [
    "from pyspark.mllib.evaluation import BinaryClassificationMetrics\n",
    "\n",
    "#logistic_model = LogisticRegressionModel.load(sc, \"rbable2_logistic_regression_model\")\n",
    "metrics = BinaryClassificationMetrics(prediction_and_labels_logistic)\n",
    "\n",
    "tps = prediction_and_labels_logistic.filter(findTruePositives)\n",
    "fps = prediction_and_labels_logistic.filter(findFalsePositives)\n",
    "fns = prediction_and_labels_logistic.filter(findFalseNegatives)\n",
    "tns = prediction_and_labels_logistic.filter(findTrueNegatives)\n",
    "\n",
    "print(\"True positive count:\"+str(tps.count()))\n",
    "print(\"False positive count:\"+str(fps.count()))\n",
    "print(\"False negative count:\"+str(fns.count()))\n",
    "print(\"True negative count:\"+str(tns.count()))\n",
    "\n",
    "precision = tps.count()/(tps.count()+fps.count())\n",
    "recall = tps.count()/(tps.count()+fns.count())\n",
    "fmeasure = 2 * precision * recall / (precision + recall)\n",
    "\n",
    "print(\"precision:\"+str(precision))\n",
    "print(\"recall:\"+str(recall))\n",
    "print(\"fmeasure:\"+str(fmeasure))\n",
    "print(\"Area under ROC:\"+str(metrics.areaUnderROC))"
   ]
  },
  {
   "cell_type": "code",
   "execution_count": 87,
   "metadata": {
    "collapsed": false
   },
   "outputs": [
    {
     "name": "stdout",
     "output_type": "stream",
     "text": [
      "True positive count:150\n",
      "False positive count:32\n",
      "False negative count:39\n",
      "True negative count:138\n",
      "precision:0.8241758241758241\n",
      "recall:0.7936507936507936\n",
      "fmeasure:0.8086253369272236\n",
      "Area under ROC:0.8019184205624883\n"
     ]
    }
   ],
   "source": [
    "from pyspark.mllib.evaluation import BinaryClassificationMetrics\n",
    "\n",
    "#logistic_model = LogisticRegressionModel.load(sc, \"rbable2_logistic_regression_model\")\n",
    "metrics_nb = BinaryClassificationMetrics(prediction_and_labels_naive_baysian)\n",
    "\n",
    "tps = prediction_and_labels_naive_baysian.filter(findTruePositives)\n",
    "fps = prediction_and_labels_naive_baysian.filter(findFalsePositives)\n",
    "fns = prediction_and_labels_naive_baysian.filter(findFalseNegatives)\n",
    "tns = prediction_and_labels_naive_baysian.filter(findTrueNegatives)\n",
    "\n",
    "print(\"True positive count:\"+str(tps.count()))\n",
    "print(\"False positive count:\"+str(fps.count()))\n",
    "print(\"False negative count:\"+str(fns.count()))\n",
    "print(\"True negative count:\"+str(tns.count()))\n",
    "\n",
    "precision = tps.count()/(tps.count()+fps.count())\n",
    "recall = tps.count()/(tps.count()+fns.count())\n",
    "fmeasure = 2 * precision * recall / (precision + recall)\n",
    "\n",
    "#print (tps.count())\n",
    "#print (fps.count())\n",
    "#print (fns.count())\n",
    "#print (tns.count())\n",
    "\n",
    "#print (prediction_and_labels_naive_baysian.count())\n",
    "\n",
    "print(\"precision:\"+str(precision))\n",
    "print(\"recall:\"+str(recall))\n",
    "print(\"fmeasure:\"+str(fmeasure))\n",
    "print(\"Area under ROC:\"+str(metrics_nb.areaUnderROC))"
   ]
  },
  {
   "cell_type": "code",
   "execution_count": 88,
   "metadata": {
    "collapsed": false
   },
   "outputs": [
    {
     "name": "stdout",
     "output_type": "stream",
     "text": [
      "Naive Baysian classifier avg k-fold 73.4210790566842\n"
     ]
    }
   ],
   "source": [
    "#K-fold implementation\n",
    "train_hashed_split = []\n",
    "total_accuracy_nb = 0\n",
    "train_hashed_split = train_hashed.randomSplit([0.1,0.1,0.1,0.1,0.1,0.1,0.1,0.1,0.1,0.1])\n",
    "for i in range(0,len(train_hashed_split)):\n",
    "    tempTrainRDD = sc.emptyRDD()\n",
    "    tempTestRDD = sc.emptyRDD()\n",
    "    for j in range(0,len(train_hashed_split)):\n",
    "        if j!=i:\n",
    "            tempTrainRDD = tempTrainRDD + train_hashed_split[j]\n",
    "    tempTestRDD = train_hashed_split[i]\n",
    "    naive_baysian_model = NaiveBayes.train(tempTrainRDD)\n",
    "    prediction_and_labels_naive_baysian_kfold = tempTestRDD.map(lambda point: (naive_baysian_model.predict(point.features), point.label))\n",
    "    correct = prediction_and_labels_naive_baysian_kfold.filter(lambda predicted: predicted[0] == predicted[1])\n",
    "    accuracy = correct.count() / float(tempTestRDD.count())\n",
    "    total_accuracy_nb = total_accuracy_nb + accuracy\n",
    "print (\"Naive Baysian classifier avg k-fold \" + str((total_accuracy_nb/10) * 100))"
   ]
  },
  {
   "cell_type": "code",
   "execution_count": 89,
   "metadata": {
    "collapsed": false
   },
   "outputs": [
    {
     "name": "stdout",
     "output_type": "stream",
     "text": [
      "Logistic regression classifier correctly predicted category 69.99435240537666\n"
     ]
    }
   ],
   "source": [
    "#K-fold implementation\n",
    "train_hashed_split = []\n",
    "total_accuracy = 0\n",
    "train_hashed_split = train_hashed.randomSplit([0.1,0.1,0.1,0.1,0.1,0.1,0.1,0.1,0.1,0.1])\n",
    "for i in range(0,len(train_hashed_split)):\n",
    "    tempTrainRDD = sc.emptyRDD()\n",
    "    tempTestRDD = sc.emptyRDD()\n",
    "    for j in range(0,len(train_hashed_split)):\n",
    "        if j!=i:\n",
    "            tempTrainRDD = tempTrainRDD + train_hashed_split[j]\n",
    "    tempTestRDD = train_hashed_split[i]\n",
    "    lr_model = LogisticRegressionWithLBFGS.train(tempTrainRDD)\n",
    "    prediction_and_labels_lr_kfold = tempTestRDD.map(lambda point: (lr_model.predict(point.features), point.label))\n",
    "    correct = prediction_and_labels_lr_kfold.filter(lambda predicted: predicted[0] == predicted[1])\n",
    "    accuracy = correct.count() / float(tempTestRDD.count())\n",
    "    total_accuracy = total_accuracy + accuracy\n",
    "print (\"Logistic regression classifier correctly predicted category \" + str((total_accuracy/10) * 100))"
   ]
  },
  {
   "cell_type": "code",
   "execution_count": 1,
   "metadata": {
    "collapsed": false
   },
   "outputs": [
    {
     "data": {
      "image/png": "[encoded data removed]",
      "text/plain": [
       "<matplotlib.figure.Figure at 0x7f79b18b7048>"
      ]
     },
     "metadata": {},
     "output_type": "display_data"
    }
   ],
   "source": [
    "%matplotlib inline\n",
    "import matplotlib.pyplot as plt\n",
    "import numpy as np\n",
    "from pylab import rcParams\n",
    "rcParams['figure.figsize'] = 10, 10\n",
    "#import plotly.plotly as py\n",
    "\n",
    "\n",
    "y = [88,70,79]\n",
    "x = np.arange(len(y))\n",
    "width=0.2\n",
    "\n",
    "ax = plt.subplot()\n",
    "rects1 = ax.bar(x, y,width,color='b',align='center')\n",
    "\n",
    "y = [81,73,80]\n",
    "x = np.arange(len(y))\n",
    "\n",
    "rects2 = ax.bar(x+width, y,width,color='r',align='center')\n",
    "\n",
    "ax.set_xticks(x+width)\n",
    "ax.set_xticklabels(('Trained accuracy', 'k-Fold avg', 'Test accuracy'))\n",
    "\n",
    "ax.legend((rects1[0], rects2[0]), ('Logistic Regression', 'Naive Baysian'))\n",
    "\n",
    "\n",
    "#ax.bar(x, z,width=0.2,color='g',align='center')\n",
    "#ax.bar(x+0.2, k,width=0.2,color='r',align='center')\n",
    "#ax.xaxis_date()\n",
    "\n",
    "plt.show()"
   ]
  },
  {
   "cell_type": "code",
   "execution_count": 11,
   "metadata": {
    "collapsed": false
   },
   "outputs": [
    {
     "data": {
      "image/png": "[encoded data removed]",
      "text/plain": [
       "<matplotlib.figure.Figure at 0x7f79b18b7160>"
      ]
     },
     "metadata": {},
     "output_type": "display_data"
    }
   ],
   "source": [
    "thresholdList = [0.0,0.05,0.1,0.15,0.2,0.25,0.3,0.35,0.4,0.45,0.5,0.55,0.6,0.65,0.7,0.75,0.8,0.85,0.9,0.95,1.0]\n",
    "#thresholdList = [0.0,0.25,0.50,0.75,1.0]\n",
    "tprList = []\n",
    "fprList = []\n",
    "tprList.append(0)\n",
    "for threshold in thresholdList:\n",
    "    logistic_model.clearThreshold()\n",
    "    logistic_model.setThreshold(threshold)\n",
    "    prediction_and_labels_logistic_roc = test_hashed.map(lambda point: (float(logistic_model.predict(point.features)), (float(point.label))))\n",
    "    tps = prediction_and_labels_logistic_roc.filter(findTruePositives)\n",
    "    fps = prediction_and_labels_logistic_roc.filter(findFalsePositives)\n",
    "    fns = prediction_and_labels_logistic_roc.filter(findFalseNegatives)\n",
    "    tns = prediction_and_labels_logistic_roc.filter(findTrueNegatives)\n",
    "    if tps.count()+fns.count() == 0:\n",
    "        tpr = 1\n",
    "    else:\n",
    "        tpr = tps.count()/(tps.count()+fns.count())\n",
    "    if fps.count()+tns.count() == 0:\n",
    "        fpr = 0\n",
    "    else:\n",
    "        fpr = fps.count()/(fps.count()+tns.count())\n",
    "    tprList.append(tpr)\n",
    "    fprList.append(fpr)\n",
    "fprList.append(1)\n",
    "#print(tprList)\n",
    "#print(fprList)\n",
    "tprList.sort()\n",
    "fprList.sort()\n",
    "%matplotlib inline\n",
    "import matplotlib.pyplot as plt\n",
    "#import numpy as np\n",
    "#from pylab import rcParams\n",
    "#rcParams['figure.figsize'] = 5, 5\n",
    "\n",
    "plt.plot(fprList,tprList)\n",
    "plt.plot([0.0,1],[0.0,1])\n",
    "plt.ylabel(\"TPR rate\")\n",
    "plt.xlabel(\"FPR rate\")\n",
    "plt.title(\"Logistic regression ROC curve\")\n",
    "#plt.axis([0, 0.5, 0.5, 1])\n",
    "plt.show()"
   ]
  },
  {
   "cell_type": "code",
   "execution_count": null,
   "metadata": {
    "collapsed": true
   },
   "outputs": [],
   "source": []
  }
 ],
 "metadata": {
  "kernelspec": {
   "display_name": "Python 3",
   "language": "python",
   "name": "python3"
  },
  "language_info": {
   "codemirror_mode": {
    "name": "ipython",
    "version": 3
   },
   "file_extension": ".py",
   "mimetype": "text/x-python",
   "name": "python",
   "nbconvert_exporter": "python",
   "pygments_lexer": "ipython3",
   "version": "3.4.3"
  }
 },
 "nbformat": 4,
 "nbformat_minor": 0
}
